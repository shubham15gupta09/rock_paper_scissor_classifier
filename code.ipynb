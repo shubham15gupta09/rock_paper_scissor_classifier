{
 "cells": [
  {
   "cell_type": "code",
   "execution_count": 10,
   "metadata": {},
   "outputs": [],
   "source": [
    "import os\n",
    "from PIL import Image\n",
    "import numpy as np\n",
    "import tensorflow as tf\n",
    "import keras_preprocessing\n",
    "from keras_preprocessing import image\n",
    "from keras_preprocessing.image import ImageDataGenerator"
   ]
  },
  {
   "cell_type": "code",
   "execution_count": 2,
   "metadata": {
    "colab": {
     "height": 141
    },
    "colab_type": "code",
    "id": "MrxdR83ANgjS",
    "outputId": "98299f36-1796-4d32-989b-9519b3535304"
   },
   "outputs": [
    {
     "name": "stdout",
     "output_type": "stream",
     "text": [
      "No. of rock images: 124\n",
      "No. of paper images: 124\n",
      "No. of scissors images: 124\n"
     ]
    }
   ],
   "source": [
    "rock_dir = os.path.join('C:/Users/Shubham Gupta/Desktop/python/rock paper seizor/train/rock')\n",
    "paper_dir = os.path.join('C:/Users/Shubham Gupta/Desktop/python/rock paper seizor/train/paper')\n",
    "scissors_dir = os.path.join('C:/Users/Shubham Gupta/Desktop/python/rock paper seizor/train/scissors')\n",
    "\n",
    "print('No. of rock images:', len(os.listdir(rock_dir)))\n",
    "print('No. of paper images:', len(os.listdir(paper_dir)))\n",
    "print('No. of scissors images:', len(os.listdir(scissors_dir)))"
   ]
  },
  {
   "cell_type": "code",
   "execution_count": 14,
   "metadata": {
    "colab": {
     "height": 1468
    },
    "colab_type": "code",
    "id": "LWTisYLQM1aM",
    "outputId": "e8b5eb30-4116-48b3-bec9-e760fec92d40"
   },
   "outputs": [],
   "source": [
    "TRAINING_DIR = \"C:/Users/Shubham Gupta/Desktop/python/rock paper seizor/train\"\n",
    "training_datagen = ImageDataGenerator(\n",
    "        rescale = 1./255,\n",
    "        rotation_range=40,\n",
    "        width_shift_range=0.2,\n",
    "        height_shift_range=0.2,\n",
    "        horizontal_flip=True,\n",
    "        fill_mode='nearest'\n",
    "        )\n",
    "\n",
    "VALIDATION_DIR = \"C:/Users/Shubham Gupta/Desktop/python/rock paper seizor/test\"\n",
    "validation_datagen = ImageDataGenerator(\n",
    "        rescale = 1./255\n",
    "        )"
   ]
  },
  {
   "cell_type": "code",
   "execution_count": 15,
   "metadata": {},
   "outputs": [
    {
     "name": "stdout",
     "output_type": "stream",
     "text": [
      "Found 372 images belonging to 3 classes.\n",
      "Found 27 images belonging to 3 classes.\n"
     ]
    }
   ],
   "source": [
    "train_generator = training_datagen.flow_from_directory(\n",
    "    TRAINING_DIR,\n",
    "    target_size=(150,150),\n",
    "    class_mode='categorical'\n",
    ")\n",
    "\n",
    "validation_generator = validation_datagen.flow_from_directory(\n",
    "    VALIDATION_DIR,\n",
    "    target_size=(150,150),\n",
    "    class_mode='categorical'\n",
    ")"
   ]
  },
  {
   "cell_type": "code",
   "execution_count": 24,
   "metadata": {},
   "outputs": [],
   "source": [
    "model = tf.keras.models.Sequential([\n",
    "    tf.keras.layers.Conv2D(64, (3,3), activation='relu', input_shape=(150, 150, 3)),\n",
    "    tf.keras.layers.MaxPooling2D(2, 2),\n",
    "    tf.keras.layers.Conv2D(64, (3,3), activation='relu'),\n",
    "    tf.keras.layers.MaxPooling2D(2,2),\n",
    "    tf.keras.layers.Conv2D(64, (3,3), activation='relu'),\n",
    "    tf.keras.layers.MaxPooling2D(2,2),\n",
    "    tf.keras.layers.Conv2D(64, (3,3), activation='relu'),\n",
    "    tf.keras.layers.MaxPooling2D(2,2),\n",
    "    tf.keras.layers.Flatten(),\n",
    "    tf.keras.layers.Dropout(0.5),\n",
    "    tf.keras.layers.Dense(32, activation='relu'),\n",
    "    tf.keras.layers.Dense(3, activation='softmax')\n",
    "])"
   ]
  },
  {
   "cell_type": "code",
   "execution_count": 25,
   "metadata": {},
   "outputs": [],
   "source": [
    "model.compile(loss = 'categorical_crossentropy', optimizer='rmsprop', metrics=['accuracy'])"
   ]
  },
  {
   "cell_type": "code",
   "execution_count": 26,
   "metadata": {},
   "outputs": [
    {
     "name": "stdout",
     "output_type": "stream",
     "text": [
      "Epoch 1/25\n",
      "12/12 [==============================] - 6s 480ms/step - loss: 1.1306 - acc: 0.3226 - val_loss: 1.0973 - val_acc: 0.4074\n",
      "Epoch 2/25\n",
      "12/12 [==============================] - 4s 356ms/step - loss: 1.1009 - acc: 0.3468 - val_loss: 1.0961 - val_acc: 0.3333\n",
      "Epoch 3/25\n",
      "12/12 [==============================] - 4s 366ms/step - loss: 1.1007 - acc: 0.3683 - val_loss: 1.0917 - val_acc: 0.3333\n",
      "Epoch 4/25\n",
      "12/12 [==============================] - 6s 486ms/step - loss: 1.1059 - acc: 0.3978 - val_loss: 1.0623 - val_acc: 0.3704\n",
      "Epoch 5/25\n",
      "12/12 [==============================] - 5s 421ms/step - loss: 1.0583 - acc: 0.3871 - val_loss: 3.2005 - val_acc: 0.3333\n",
      "Epoch 6/25\n",
      "12/12 [==============================] - 4s 358ms/step - loss: 1.2309 - acc: 0.4194 - val_loss: 0.9289 - val_acc: 0.5185\n",
      "Epoch 7/25\n",
      "12/12 [==============================] - 4s 358ms/step - loss: 0.9935 - acc: 0.4973 - val_loss: 0.8735 - val_acc: 0.5185\n",
      "Epoch 8/25\n",
      "12/12 [==============================] - 4s 358ms/step - loss: 0.9155 - acc: 0.5484 - val_loss: 0.8305 - val_acc: 0.5185\n",
      "Epoch 9/25\n",
      "12/12 [==============================] - 4s 357ms/step - loss: 0.9456 - acc: 0.5323 - val_loss: 0.6060 - val_acc: 0.6667\n",
      "Epoch 10/25\n",
      "12/12 [==============================] - 4s 357ms/step - loss: 0.8871 - acc: 0.5726 - val_loss: 0.8405 - val_acc: 0.5185\n",
      "Epoch 11/25\n",
      "12/12 [==============================] - 4s 357ms/step - loss: 0.7895 - acc: 0.6613 - val_loss: 0.4720 - val_acc: 0.7037\n",
      "Epoch 12/25\n",
      "12/12 [==============================] - 4s 358ms/step - loss: 0.7143 - acc: 0.6774 - val_loss: 0.6601 - val_acc: 0.7778\n",
      "Epoch 13/25\n",
      "12/12 [==============================] - 4s 357ms/step - loss: 0.6668 - acc: 0.7312 - val_loss: 0.7117 - val_acc: 0.6667\n",
      "Epoch 14/25\n",
      "12/12 [==============================] - 4s 358ms/step - loss: 0.5986 - acc: 0.7231 - val_loss: 0.6892 - val_acc: 0.7778\n",
      "Epoch 15/25\n",
      "12/12 [==============================] - 4s 356ms/step - loss: 0.7127 - acc: 0.6989 - val_loss: 0.4645 - val_acc: 0.8519\n",
      "Epoch 16/25\n",
      "12/12 [==============================] - 4s 357ms/step - loss: 0.4845 - acc: 0.7984 - val_loss: 1.0542 - val_acc: 0.6667\n",
      "Epoch 17/25\n",
      "12/12 [==============================] - 4s 358ms/step - loss: 0.3785 - acc: 0.8602 - val_loss: 0.5107 - val_acc: 0.7407\n",
      "Epoch 18/25\n",
      "12/12 [==============================] - 4s 357ms/step - loss: 0.4584 - acc: 0.8360 - val_loss: 0.4359 - val_acc: 0.8889\n",
      "Epoch 19/25\n",
      "12/12 [==============================] - 4s 357ms/step - loss: 0.4408 - acc: 0.8333 - val_loss: 0.4831 - val_acc: 0.8148\n",
      "Epoch 20/25\n",
      "12/12 [==============================] - 5s 383ms/step - loss: 0.3734 - acc: 0.8629 - val_loss: 0.4624 - val_acc: 0.8519\n",
      "Epoch 21/25\n",
      "12/12 [==============================] - 4s 356ms/step - loss: 0.3142 - acc: 0.8763 - val_loss: 0.4731 - val_acc: 0.8889\n",
      "Epoch 22/25\n",
      "12/12 [==============================] - 4s 359ms/step - loss: 0.2886 - acc: 0.8898 - val_loss: 0.5720 - val_acc: 0.8519\n",
      "Epoch 23/25\n",
      "12/12 [==============================] - 4s 358ms/step - loss: 0.3078 - acc: 0.8737 - val_loss: 0.3008 - val_acc: 0.8519\n",
      "Epoch 24/25\n",
      "12/12 [==============================] - 4s 356ms/step - loss: 0.2224 - acc: 0.9032 - val_loss: 1.5150 - val_acc: 0.8148\n",
      "Epoch 25/25\n",
      "12/12 [==============================] - 5s 454ms/step - loss: 0.2770 - acc: 0.8871 - val_loss: 0.4139 - val_acc: 0.8148\n"
     ]
    }
   ],
   "source": [
    "history = model.fit_generator(train_generator, epochs=25, validation_data = validation_generator, verbose = 1)"
   ]
  },
  {
   "cell_type": "code",
   "execution_count": 27,
   "metadata": {},
   "outputs": [
    {
     "name": "stdout",
     "output_type": "stream",
     "text": [
      "Model: \"sequential_3\"\n",
      "_________________________________________________________________\n",
      "Layer (type)                 Output Shape              Param #   \n",
      "=================================================================\n",
      "conv2d_12 (Conv2D)           (None, 148, 148, 64)      1792      \n",
      "_________________________________________________________________\n",
      "max_pooling2d_12 (MaxPooling (None, 74, 74, 64)        0         \n",
      "_________________________________________________________________\n",
      "conv2d_13 (Conv2D)           (None, 72, 72, 64)        36928     \n",
      "_________________________________________________________________\n",
      "max_pooling2d_13 (MaxPooling (None, 36, 36, 64)        0         \n",
      "_________________________________________________________________\n",
      "conv2d_14 (Conv2D)           (None, 34, 34, 64)        36928     \n",
      "_________________________________________________________________\n",
      "max_pooling2d_14 (MaxPooling (None, 17, 17, 64)        0         \n",
      "_________________________________________________________________\n",
      "conv2d_15 (Conv2D)           (None, 15, 15, 64)        36928     \n",
      "_________________________________________________________________\n",
      "max_pooling2d_15 (MaxPooling (None, 7, 7, 64)          0         \n",
      "_________________________________________________________________\n",
      "flatten_3 (Flatten)          (None, 3136)              0         \n",
      "_________________________________________________________________\n",
      "dropout_3 (Dropout)          (None, 3136)              0         \n",
      "_________________________________________________________________\n",
      "dense_6 (Dense)              (None, 32)                100384    \n",
      "_________________________________________________________________\n",
      "dense_7 (Dense)              (None, 3)                 99        \n",
      "=================================================================\n",
      "Total params: 213,059\n",
      "Trainable params: 213,059\n",
      "Non-trainable params: 0\n",
      "_________________________________________________________________\n"
     ]
    }
   ],
   "source": [
    "model.summary()\n",
    "model.save(\"rps.h5\")"
   ]
  },
  {
   "cell_type": "code",
   "execution_count": 20,
   "metadata": {},
   "outputs": [
    {
     "name": "stdout",
     "output_type": "stream",
     "text": [
      "1st is paper , 2nd is rock , 3rd is scissors\n"
     ]
    },
    {
     "data": {
      "text/plain": [
       "array([[1., 0., 0.]], dtype=float32)"
      ]
     },
     "execution_count": 20,
     "metadata": {},
     "output_type": "execute_result"
    }
   ],
   "source": [
    "print(\"1st is paper , 2nd is rock , 3rd is scissors\")\n",
    "path = \"paper1.png\"\n",
    "img = image.load_img(path, target_size=(150, 150))\n",
    "x = image.img_to_array(img)\n",
    "x = np.expand_dims(x, axis=0)\n",
    "images = np.vstack([x])\n",
    "model.predict(images)"
   ]
  }
 ],
 "metadata": {
  "colab": {
   "name": "rock_paper_scissors.ipynb",
   "provenance": [],
   "version": "0.3.2"
  },
  "kernelspec": {
   "display_name": "Python 3",
   "language": "python",
   "name": "python3"
  },
  "language_info": {
   "codemirror_mode": {
    "name": "ipython",
    "version": 3
   },
   "file_extension": ".py",
   "mimetype": "text/x-python",
   "name": "python",
   "nbconvert_exporter": "python",
   "pygments_lexer": "ipython3",
   "version": "3.6.6"
  }
 },
 "nbformat": 4,
 "nbformat_minor": 1
}
